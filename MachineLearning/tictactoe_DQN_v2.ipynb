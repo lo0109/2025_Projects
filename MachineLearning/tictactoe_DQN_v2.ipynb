{
 "cells": [
  {
   "cell_type": "markdown",
   "id": "62adf1b3",
   "metadata": {},
   "source": [
    "Training a tic tik toe AI by DQN"
   ]
  },
  {
   "cell_type": "code",
   "execution_count": 1,
   "id": "88d3c02b",
   "metadata": {},
   "outputs": [
    {
     "name": "stdout",
     "output_type": "stream",
     "text": [
      "Requirement already satisfied: torch in /Users/swl/Documents/data-analysis/advanced/Lab9/notebooks/netflixApp/.conda/lib/python3.11/site-packages (2.5.1)\n",
      "Requirement already satisfied: numpy in /Users/swl/Documents/data-analysis/advanced/Lab9/notebooks/netflixApp/.conda/lib/python3.11/site-packages (1.26.4)\n",
      "Requirement already satisfied: filelock in /Users/swl/Documents/data-analysis/advanced/Lab9/notebooks/netflixApp/.conda/lib/python3.11/site-packages (from torch) (3.16.1)\n",
      "Requirement already satisfied: typing-extensions>=4.8.0 in /Users/swl/Documents/data-analysis/advanced/Lab9/notebooks/netflixApp/.conda/lib/python3.11/site-packages (from torch) (4.12.2)\n",
      "Requirement already satisfied: networkx in /Users/swl/Documents/data-analysis/advanced/Lab9/notebooks/netflixApp/.conda/lib/python3.11/site-packages (from torch) (3.4.2)\n",
      "Requirement already satisfied: jinja2 in /Users/swl/Documents/data-analysis/advanced/Lab9/notebooks/netflixApp/.conda/lib/python3.11/site-packages (from torch) (3.1.4)\n",
      "Requirement already satisfied: fsspec in /Users/swl/Documents/data-analysis/advanced/Lab9/notebooks/netflixApp/.conda/lib/python3.11/site-packages (from torch) (2024.12.0)\n",
      "Requirement already satisfied: sympy==1.13.1 in /Users/swl/Documents/data-analysis/advanced/Lab9/notebooks/netflixApp/.conda/lib/python3.11/site-packages (from torch) (1.13.1)\n",
      "Requirement already satisfied: mpmath<1.4,>=1.1.0 in /Users/swl/Documents/data-analysis/advanced/Lab9/notebooks/netflixApp/.conda/lib/python3.11/site-packages (from sympy==1.13.1->torch) (1.3.0)\n",
      "Requirement already satisfied: MarkupSafe>=2.0 in /Users/swl/Documents/data-analysis/advanced/Lab9/notebooks/netflixApp/.conda/lib/python3.11/site-packages (from jinja2->torch) (2.1.5)\n"
     ]
    }
   ],
   "source": [
    "!pip install torch numpy\n"
   ]
  },
  {
   "cell_type": "code",
   "execution_count": 2,
   "id": "e9a5423c",
   "metadata": {},
   "outputs": [],
   "source": [
    "import numpy as np\n",
    "import torch\n",
    "import torch.nn as nn"
   ]
  },
  {
   "cell_type": "code",
   "execution_count": null,
   "id": "1ac7584f",
   "metadata": {},
   "outputs": [],
   "source": [
    "\n"
   ]
  }
 ],
 "metadata": {
  "kernelspec": {
   "display_name": "Python 3 (ipykernel)",
   "language": "python",
   "name": "python3"
  },
  "language_info": {
   "codemirror_mode": {
    "name": "ipython",
    "version": 3
   },
   "file_extension": ".py",
   "mimetype": "text/x-python",
   "name": "python",
   "nbconvert_exporter": "python",
   "pygments_lexer": "ipython3",
   "version": "3.11.9"
  }
 },
 "nbformat": 4,
 "nbformat_minor": 5
}
