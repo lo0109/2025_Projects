{
 "cells": [
  {
   "cell_type": "code",
   "execution_count": 29,
   "id": "054f8f0c-f5c5-4a98-a21b-fc1d4ba27a27",
   "metadata": {
    "tags": []
   },
   "outputs": [],
   "source": [
    "import numpy as np\n",
    "import math\n",
    "import random"
   ]
  },
  {
   "cell_type": "code",
   "execution_count": 30,
   "id": "6ac9446b-0bd8-425d-9a57-9ae61555affd",
   "metadata": {
    "tags": []
   },
   "outputs": [],
   "source": [
    "class TicTacToe:\n",
    "    def __init__(self):\n",
    "        self.reset()\n",
    "\n",
    "    def reset(self):\n",
    "        \"\"\"Reset the game to the initial state.\"\"\"\n",
    "        self.board = np.zeros((3, 3), dtype=int)  # 3x3 board initialized to 0\n",
    "        self.current_player = 1  # Player 1 starts\n",
    "\n",
    "    def is_valid_move(self, row, col):\n",
    "        \"\"\"Check if a move is valid.\"\"\"\n",
    "        return self.board[row, col] == 0\n",
    "\n",
    "    def make_move(self, row, col, player):\n",
    "        \"\"\"Make a move on the board.\"\"\"\n",
    "        if self.is_valid_move(row, col):\n",
    "            self.board[row, col] = player\n",
    "            return True\n",
    "        return False\n",
    "\n",
    "    def check_winner(self):\n",
    "        \"\"\"\n",
    "        Check if there is a winner or a draw.\n",
    "        Returns:\n",
    "            1 if player 1 wins,\n",
    "           -1 if player -1 wins,\n",
    "            0 if it's a draw,\n",
    "            None if the game is still ongoing.\n",
    "        \"\"\"\n",
    "        # Check rows and columns\n",
    "        for i in range(3):\n",
    "            if abs(sum(self.board[i, :])) == 3:  # Row check\n",
    "                return self.board[i, 0]\n",
    "            if abs(sum(self.board[:, i])) == 3:  # Column check\n",
    "                return self.board[0, i]\n",
    "\n",
    "        # Check diagonals\n",
    "        diag1 = sum(self.board[i, i] for i in range(3))\n",
    "        diag2 = sum(self.board[i, 2 - i] for i in range(3))\n",
    "        if abs(diag1) == 3:\n",
    "            return self.board[0, 0]\n",
    "        if abs(diag2) == 3:\n",
    "            return self.board[0, 2]\n",
    "\n",
    "        # Check for a draw\n",
    "        if not np.any(self.board == 0):  # No empty spaces left\n",
    "            return 0\n",
    "\n",
    "        # Game is still ongoing\n",
    "        return None\n",
    "\n",
    "    def display_board(self):\n",
    "        \"\"\"Print the board.\"\"\"\n",
    "        symbols = {1: 'X', -1: 'O', 0: ' '}\n",
    "        for row in self.board:\n",
    "            print(' | '.join(symbols[cell] for cell in row))\n",
    "            print('-' * 9)\n",
    "\n",
    "    def available_moves(self):\n",
    "        \"\"\"Get a list of all available moves.\"\"\"\n",
    "        return [(i, j) for i in range(3) for j in range(3) if self.board[i, j] == 0]\n",
    "\n",
    "    def clone(self):\n",
    "        \"\"\"Clone the current game state.\"\"\"\n",
    "        clone = TicTacToe()\n",
    "        clone.board = self.board.copy()\n",
    "        clone.current_player = self.current_player\n",
    "        return clone\n"
   ]
  },
  {
   "cell_type": "markdown",
   "id": "ee1df683-dee3-453c-9632-dcc2bea0cfa0",
   "metadata": {},
   "source": [
    "# Define the Tree Structure"
   ]
  },
  {
   "cell_type": "code",
   "execution_count": 31,
   "id": "28328fc6-c8a9-4b26-9198-7e330695aae3",
   "metadata": {
    "tags": []
   },
   "outputs": [],
   "source": [
    "class Node:\n",
    "    def __init__(self, state, parent=None, player=1):\n",
    "        self.state = state  # TicTacToe instance\n",
    "        self.parent = parent  # Parent node\n",
    "        self.children = []  # List of child nodes\n",
    "        self.visits = 0  # Number of times this node has been visited\n",
    "        self.wins = 0  # Number of wins from this node\n",
    "        self.player = player  # Player who made the move (-1 or 1)\n",
    "\n",
    "    def is_fully_expanded(self):\n",
    "        \"\"\"Check if all possible moves have been explored.\"\"\"\n",
    "        return len(self.children) == len(self.state.available_moves())\n",
    "\n",
    "    def add_child(self, child_node):\n",
    "        self.children.append(child_node)\n",
    "\n"
   ]
  },
  {
   "cell_type": "markdown",
   "id": "abc9dc02-608e-4fd5-9939-6c8a0e907e89",
   "metadata": {
    "tags": []
   },
   "source": [
    "# Implement the Four MCTS Steps"
   ]
  },
  {
   "cell_type": "markdown",
   "id": "195705ec-8bb5-4ca2-aa99-bffd3117e948",
   "metadata": {
    "tags": []
   },
   "source": [
    "## Use a metric like Upper Confidence Bound for Trees (UCT) to select the most promising node. UCT balances exploration and exploitation."
   ]
  },
  {
   "cell_type": "code",
   "execution_count": 32,
   "id": "426e6283-8bed-419e-b5f7-8f4d3434930f",
   "metadata": {
    "tags": []
   },
   "outputs": [],
   "source": [
    "def select_best_node(node, exploration_constant=1.41):\n",
    "    \"\"\"Select the best node based on UCT.\"\"\"\n",
    "    best_score = -float('inf')\n",
    "    best_child = None\n",
    "    for child in node.children:\n",
    "        if child.visits == 0:\n",
    "            return child\n",
    "        uct_score = (child.wins / child.visits) + exploration_constant * math.sqrt(\n",
    "            math.log(node.visits) / child.visits\n",
    "        )\n",
    "        if uct_score > best_score:\n",
    "            best_score = uct_score\n",
    "            best_child = child\n",
    "    return best_child"
   ]
  },
  {
   "cell_type": "markdown",
   "id": "2e59b853-0dc0-44e5-bcb2-a677e6da30cd",
   "metadata": {
    "tags": []
   },
   "source": [
    "## If the selected node isn't fully expanded, generate a new child node by simulating one of the unexplored moves."
   ]
  },
  {
   "cell_type": "code",
   "execution_count": 33,
   "id": "db5fb46f-820f-43f8-b80c-dca1899ff958",
   "metadata": {
    "tags": []
   },
   "outputs": [],
   "source": [
    "def expand_node(node):\n",
    "    \"\"\"Expand a node by creating a child for an unexplored move.\"\"\"\n",
    "    for move in node.state.available_moves():\n",
    "        # Create a child node if this move hasn't been explored\n",
    "        if not any((child.state.board == apply_move(node.state.board, move, node.player)).all() for child in node.children):\n",
    "            child_state = node.state.clone()\n",
    "            child_state.make_move(move[0], move[1], node.player)\n",
    "            child_node = Node(state=child_state, parent=node, player=-node.player)\n",
    "            node.add_child(child_node)\n",
    "            return child_node\n",
    "    return None\n",
    "\n",
    "def apply_move(state, move, player):\n",
    "    \"\"\"Apply a move to a state and return the new state.\"\"\"\n",
    "    new_state = state.copy()\n",
    "    new_state[move[0], move[1]] = player\n",
    "    return new_state\n"
   ]
  },
  {
   "cell_type": "markdown",
   "id": "9b88026e-6ee1-4fe5-ac1b-8cc1c6a3e3d4",
   "metadata": {
    "tags": []
   },
   "source": [
    "## Simulate a game from the new node using random moves until the game ends."
   ]
  },
  {
   "cell_type": "code",
   "execution_count": null,
   "id": "40059987-2133-48a6-956b-cf6acf7bb876",
   "metadata": {},
   "outputs": [],
   "source": [
    "# A global cache dictionary to store previously computed results\n",
    "simulation_cache = {}"
   ]
  },
  {
   "cell_type": "code",
   "execution_count": 34,
   "id": "49dc10a0-9f93-4fc2-b7f3-11bc346f94cd",
   "metadata": {
    "tags": []
   },
   "outputs": [],
   "source": [
    "def simulate_game(state, player):\n",
    "    \"\"\"Simulate a random game from the current state.\"\"\"\n",
    "    while True:\n",
    "        winner = state.check_winner()\n",
    "        if winner is not None:\n",
    "            return winner\n",
    "        valid_moves = state.available_moves()\n",
    "        move = random.choice(valid_moves)\n",
    "        state.make_move(move[0], move[1], player)\n",
    "        player = -player  # Switch player"
   ]
  },
  {
   "cell_type": "markdown",
   "id": "bd4d8c18-bcce-4653-8260-86ca1eac2864",
   "metadata": {},
   "source": [
    "## Update the visited nodes with the simulation result. Increment the visit count and add the result to the win count for the player who made the move."
   ]
  },
  {
   "cell_type": "code",
   "execution_count": 35,
   "id": "b7081f7d-fd75-4e96-99da-3fa1dc0f016b",
   "metadata": {
    "tags": []
   },
   "outputs": [],
   "source": [
    "def backpropagate(node, result):\n",
    "    \"\"\"Backpropagate the simulation result up the tree.\"\"\"\n",
    "    while node is not None:\n",
    "        node.visits += 1\n",
    "        if result == node.player:  # If the result is favorable for the player\n",
    "            node.wins += 1\n",
    "        node = node.parent"
   ]
  },
  {
   "cell_type": "markdown",
   "id": "83d3c5c5-9c40-4187-aa17-a9525fc361c5",
   "metadata": {
    "tags": []
   },
   "source": [
    "## Combine the steps to implement the full MCTS loop. Repeat the process multiple times to refine the tree and get better decisions.\n"
   ]
  },
  {
   "cell_type": "code",
   "execution_count": 43,
   "id": "5297ac43-58dd-4fa5-9526-167a5f18fab9",
   "metadata": {
    "tags": []
   },
   "outputs": [],
   "source": [
    "def mcts(root, iterations=10000):\n",
    "    \"\"\"Perform MCTS to decide the best move.\"\"\"\n",
    "    for _ in range(iterations):\n",
    "        # Step 1: Selection\n",
    "        node = root\n",
    "        while node.is_fully_expanded() and node.children:\n",
    "            node = select_best_node(node)\n",
    "\n",
    "        # Step 2: Expansion\n",
    "        if not node.is_fully_expanded():\n",
    "            node = expand_node(node)\n",
    "\n",
    "        # Step 3: Simulation\n",
    "        result = simulate_game(node.state.clone(), node.player)\n",
    "\n",
    "        # Step 4: Backpropagation\n",
    "        backpropagate(node, result)\n",
    "\n",
    "    # Select the best move based on visits\n",
    "    return max(root.children, key=lambda child: child.visits)\n"
   ]
  },
  {
   "cell_type": "code",
   "execution_count": 47,
   "id": "a88d4657-6424-409f-976c-45cf2081ac28",
   "metadata": {
    "tags": []
   },
   "outputs": [],
   "source": [
    "import pickle\n",
    "\n",
    "def save_tree(root, filename=\"mcts_tree.pkl\"):\n",
    "    \"\"\"Save the MCTS tree to a file.\"\"\"\n",
    "    with open(filename, \"wb\") as f:\n",
    "        pickle.dump(root, f)\n",
    "    print(\"MCTS tree saved.\")\n",
    "\n",
    "def load_tree(filename=\"mcts_tree.pkl\"):\n",
    "    \"\"\"Load the MCTS tree from a file.\"\"\"\n",
    "    try:\n",
    "        with open(filename, \"rb\") as f:\n",
    "            root = pickle.load(f)\n",
    "        print(\"MCTS tree loaded.\")\n",
    "        return root\n",
    "    except FileNotFoundError:\n",
    "        print(\"No saved MCTS tree found, starting from scratch.\")\n",
    "        return None\n"
   ]
  },
  {
   "cell_type": "markdown",
   "id": "84f5a546-3fd0-4030-8f89-2238fef63ed6",
   "metadata": {},
   "source": [
    "## Create the root node using the current game state and run MCTS to decide the best move."
   ]
  },
  {
   "cell_type": "code",
   "execution_count": 46,
   "id": "59585c6e-f8f3-4d5c-860c-e6bdfe071004",
   "metadata": {
    "tags": []
   },
   "outputs": [
    {
     "name": "stdout",
     "output_type": "stream",
     "text": [
      "  |   |  \n",
      "---------\n",
      "  |   |  \n",
      "---------\n",
      "  |   |  \n",
      "---------\n",
      "Your turn (Player X). Enter row and column (0-2):\n"
     ]
    },
    {
     "name": "stdin",
     "output_type": "stream",
     "text": [
      " 1 1\n"
     ]
    },
    {
     "name": "stdout",
     "output_type": "stream",
     "text": [
      "  |   |  \n",
      "---------\n",
      "  | X |  \n",
      "---------\n",
      "  |   |  \n",
      "---------\n",
      "AI's turn (Player O).\n",
      "  |   |  \n",
      "---------\n",
      "  | X | O\n",
      "---------\n",
      "  |   |  \n",
      "---------\n",
      "Your turn (Player X). Enter row and column (0-2):\n"
     ]
    },
    {
     "name": "stdin",
     "output_type": "stream",
     "text": [
      " 0 1\n"
     ]
    },
    {
     "name": "stdout",
     "output_type": "stream",
     "text": [
      "  | X |  \n",
      "---------\n",
      "  | X | O\n",
      "---------\n",
      "  |   |  \n",
      "---------\n",
      "AI's turn (Player O).\n",
      "  | X |  \n",
      "---------\n",
      "  | X | O\n",
      "---------\n",
      "  |   | O\n",
      "---------\n",
      "Your turn (Player X). Enter row and column (0-2):\n"
     ]
    },
    {
     "name": "stdin",
     "output_type": "stream",
     "text": [
      " 2 1\n"
     ]
    },
    {
     "name": "stdout",
     "output_type": "stream",
     "text": [
      "  | X |  \n",
      "---------\n",
      "  | X | O\n",
      "---------\n",
      "  | X | O\n",
      "---------\n",
      "Player X wins!\n"
     ]
    }
   ],
   "source": [
    "# Main Game Loop\n",
    "game = TicTacToe()\n",
    "root = Node(state=game.clone(), player=1)\n",
    "\n",
    "while True:\n",
    "    game.display_board()\n",
    "    \n",
    "    # Check if the game is over\n",
    "    winner = game.check_winner()\n",
    "    if winner is not None:\n",
    "        if winner == 0:\n",
    "            print(\"It's a draw!\")\n",
    "        else:\n",
    "            print(f\"Player {'X' if winner == 1 else 'O'} wins!\")\n",
    "        break\n",
    "\n",
    "    if game.current_player == 1:  # Player's turn\n",
    "        print(\"Your turn (Player X). Enter row and column (0-2):\")\n",
    "        row, col = map(int, input().split())\n",
    "        if game.make_move(row, col, 1):\n",
    "            root = Node(state=game.clone(), player=-1)  # Update root for AI\n",
    "            game.current_player = -1  # Switch to AI\n",
    "        else:\n",
    "            print(\"Invalid move. Try again.\")\n",
    "    else:  # AI's turn\n",
    "        print(\"AI's turn (Player O).\")\n",
    "        best_node = mcts(root, iterations=100000)  # AI selects a move using MCTS\n",
    "        game = best_node.state\n",
    "        root = best_node  # Update root for the next MCTS iteration\n",
    "        game.current_player = 1  # Switch back to player\n"
   ]
  },
  {
   "cell_type": "code",
   "execution_count": null,
   "id": "9714f46c-09ec-4dda-98a0-b3c34628b9e0",
   "metadata": {},
   "outputs": [],
   "source": []
  }
 ],
 "metadata": {
  "kernelspec": {
   "display_name": "Python 3 (ipykernel)",
   "language": "python",
   "name": "python3"
  },
  "language_info": {
   "codemirror_mode": {
    "name": "ipython",
    "version": 3
   },
   "file_extension": ".py",
   "mimetype": "text/x-python",
   "name": "python",
   "nbconvert_exporter": "python",
   "pygments_lexer": "ipython3",
   "version": "3.11.5"
  }
 },
 "nbformat": 4,
 "nbformat_minor": 5
}
