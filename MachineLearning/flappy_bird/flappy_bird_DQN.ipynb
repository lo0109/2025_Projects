{
 "cells": [
  {
   "cell_type": "code",
   "execution_count": 4,
   "metadata": {},
   "outputs": [
    {
     "name": "stdout",
     "output_type": "stream",
     "text": [
      "Requirement already satisfied: flappy-bird-gymnasium in /Users/swl/Documents/data-analysis/advanced/Lab9/notebooks/netflixApp/.conda/lib/python3.11/site-packages (0.4.0)\n",
      "Requirement already satisfied: gymnasium in /Users/swl/Documents/data-analysis/advanced/Lab9/notebooks/netflixApp/.conda/lib/python3.11/site-packages (from flappy-bird-gymnasium) (1.0.0)\n",
      "Requirement already satisfied: numpy in /Users/swl/Documents/data-analysis/advanced/Lab9/notebooks/netflixApp/.conda/lib/python3.11/site-packages (from flappy-bird-gymnasium) (1.26.4)\n",
      "Requirement already satisfied: pygame in /Users/swl/Documents/data-analysis/advanced/Lab9/notebooks/netflixApp/.conda/lib/python3.11/site-packages (from flappy-bird-gymnasium) (2.6.1)\n",
      "Requirement already satisfied: matplotlib in /Users/swl/Documents/data-analysis/advanced/Lab9/notebooks/netflixApp/.conda/lib/python3.11/site-packages (from flappy-bird-gymnasium) (3.10.0)\n",
      "Requirement already satisfied: cloudpickle>=1.2.0 in /Users/swl/Documents/data-analysis/advanced/Lab9/notebooks/netflixApp/.conda/lib/python3.11/site-packages (from gymnasium->flappy-bird-gymnasium) (3.1.1)\n",
      "Requirement already satisfied: typing-extensions>=4.3.0 in /Users/swl/Documents/data-analysis/advanced/Lab9/notebooks/netflixApp/.conda/lib/python3.11/site-packages (from gymnasium->flappy-bird-gymnasium) (4.12.2)\n",
      "Requirement already satisfied: farama-notifications>=0.0.1 in /Users/swl/Documents/data-analysis/advanced/Lab9/notebooks/netflixApp/.conda/lib/python3.11/site-packages (from gymnasium->flappy-bird-gymnasium) (0.0.4)\n",
      "Requirement already satisfied: contourpy>=1.0.1 in /Users/swl/Documents/data-analysis/advanced/Lab9/notebooks/netflixApp/.conda/lib/python3.11/site-packages (from matplotlib->flappy-bird-gymnasium) (1.3.1)\n",
      "Requirement already satisfied: cycler>=0.10 in /Users/swl/Documents/data-analysis/advanced/Lab9/notebooks/netflixApp/.conda/lib/python3.11/site-packages (from matplotlib->flappy-bird-gymnasium) (0.12.1)\n",
      "Requirement already satisfied: fonttools>=4.22.0 in /Users/swl/Documents/data-analysis/advanced/Lab9/notebooks/netflixApp/.conda/lib/python3.11/site-packages (from matplotlib->flappy-bird-gymnasium) (4.55.3)\n",
      "Requirement already satisfied: kiwisolver>=1.3.1 in /Users/swl/Documents/data-analysis/advanced/Lab9/notebooks/netflixApp/.conda/lib/python3.11/site-packages (from matplotlib->flappy-bird-gymnasium) (1.4.8)\n",
      "Requirement already satisfied: packaging>=20.0 in /Users/swl/Documents/data-analysis/advanced/Lab9/notebooks/netflixApp/.conda/lib/python3.11/site-packages (from matplotlib->flappy-bird-gymnasium) (24.2)\n",
      "Requirement already satisfied: pillow>=8 in /Users/swl/Documents/data-analysis/advanced/Lab9/notebooks/netflixApp/.conda/lib/python3.11/site-packages (from matplotlib->flappy-bird-gymnasium) (11.1.0)\n",
      "Requirement already satisfied: pyparsing>=2.3.1 in /Users/swl/Documents/data-analysis/advanced/Lab9/notebooks/netflixApp/.conda/lib/python3.11/site-packages (from matplotlib->flappy-bird-gymnasium) (3.2.1)\n",
      "Requirement already satisfied: python-dateutil>=2.7 in /Users/swl/Documents/data-analysis/advanced/Lab9/notebooks/netflixApp/.conda/lib/python3.11/site-packages (from matplotlib->flappy-bird-gymnasium) (2.9.0.post0)\n",
      "Requirement already satisfied: six>=1.5 in /Users/swl/Documents/data-analysis/advanced/Lab9/notebooks/netflixApp/.conda/lib/python3.11/site-packages (from python-dateutil>=2.7->matplotlib->flappy-bird-gymnasium) (1.16.0)\n",
      "Requirement already satisfied: gymnasium in /Users/swl/Documents/data-analysis/advanced/Lab9/notebooks/netflixApp/.conda/lib/python3.11/site-packages (1.0.0)\n",
      "Requirement already satisfied: numpy>=1.21.0 in /Users/swl/Documents/data-analysis/advanced/Lab9/notebooks/netflixApp/.conda/lib/python3.11/site-packages (from gymnasium) (1.26.4)\n",
      "Requirement already satisfied: cloudpickle>=1.2.0 in /Users/swl/Documents/data-analysis/advanced/Lab9/notebooks/netflixApp/.conda/lib/python3.11/site-packages (from gymnasium) (3.1.1)\n",
      "Requirement already satisfied: typing-extensions>=4.3.0 in /Users/swl/Documents/data-analysis/advanced/Lab9/notebooks/netflixApp/.conda/lib/python3.11/site-packages (from gymnasium) (4.12.2)\n",
      "Requirement already satisfied: farama-notifications>=0.0.1 in /Users/swl/Documents/data-analysis/advanced/Lab9/notebooks/netflixApp/.conda/lib/python3.11/site-packages (from gymnasium) (0.0.4)\n",
      "Collecting pyyaml\n",
      "  Downloading PyYAML-6.0.2-cp311-cp311-macosx_11_0_arm64.whl.metadata (2.1 kB)\n",
      "Downloading PyYAML-6.0.2-cp311-cp311-macosx_11_0_arm64.whl (172 kB)\n",
      "\u001b[2K   \u001b[90m━━━━━━━━━━━━━━━━━━━━━━━━━━━━━━━━━━━━━━━━\u001b[0m \u001b[32m172.0/172.0 kB\u001b[0m \u001b[31m2.3 MB/s\u001b[0m eta \u001b[36m0:00:00\u001b[0m \u001b[36m0:00:01\u001b[0m\n",
      "\u001b[?25hInstalling collected packages: pyyaml\n",
      "Successfully installed pyyaml-6.0.2\n"
     ]
    }
   ],
   "source": [
    "!pip install flappy-bird-gymnasium\n",
    "!pip install gymnasium\n",
    "\n",
    "!pip install pyyaml"
   ]
  },
  {
   "cell_type": "code",
   "execution_count": 9,
   "metadata": {},
   "outputs": [
    {
     "name": "stderr",
     "output_type": "stream",
     "text": [
      "377.85s - pydevd: Sending message related to process being replaced timed-out after 5 seconds\n"
     ]
    },
    {
     "name": "stdout",
     "output_type": "stream",
     "text": [
      "Requirement already satisfied: torch in /Users/swl/Documents/data-analysis/advanced/Lab9/notebooks/netflixApp/.conda/lib/python3.11/site-packages (2.5.1)\n",
      "Requirement already satisfied: filelock in /Users/swl/Documents/data-analysis/advanced/Lab9/notebooks/netflixApp/.conda/lib/python3.11/site-packages (from torch) (3.16.1)\n",
      "Requirement already satisfied: typing-extensions>=4.8.0 in /Users/swl/Documents/data-analysis/advanced/Lab9/notebooks/netflixApp/.conda/lib/python3.11/site-packages (from torch) (4.12.2)\n",
      "Requirement already satisfied: networkx in /Users/swl/Documents/data-analysis/advanced/Lab9/notebooks/netflixApp/.conda/lib/python3.11/site-packages (from torch) (3.4.2)\n",
      "Requirement already satisfied: jinja2 in /Users/swl/Documents/data-analysis/advanced/Lab9/notebooks/netflixApp/.conda/lib/python3.11/site-packages (from torch) (3.1.4)\n",
      "Requirement already satisfied: fsspec in /Users/swl/Documents/data-analysis/advanced/Lab9/notebooks/netflixApp/.conda/lib/python3.11/site-packages (from torch) (2024.12.0)\n",
      "Requirement already satisfied: sympy==1.13.1 in /Users/swl/Documents/data-analysis/advanced/Lab9/notebooks/netflixApp/.conda/lib/python3.11/site-packages (from torch) (1.13.1)\n",
      "Requirement already satisfied: mpmath<1.4,>=1.1.0 in /Users/swl/Documents/data-analysis/advanced/Lab9/notebooks/netflixApp/.conda/lib/python3.11/site-packages (from sympy==1.13.1->torch) (1.3.0)\n",
      "Requirement already satisfied: MarkupSafe>=2.0 in /Users/swl/Documents/data-analysis/advanced/Lab9/notebooks/netflixApp/.conda/lib/python3.11/site-packages (from jinja2->torch) (2.1.5)\n"
     ]
    },
    {
     "name": "stderr",
     "output_type": "stream",
     "text": [
      "384.10s - pydevd: Sending message related to process being replaced timed-out after 5 seconds\n"
     ]
    },
    {
     "name": "stdout",
     "output_type": "stream",
     "text": [
      "Requirement already satisfied: numpy in /Users/swl/Documents/data-analysis/advanced/Lab9/notebooks/netflixApp/.conda/lib/python3.11/site-packages (1.26.4)\n"
     ]
    }
   ],
   "source": [
    "!pip install torch\n",
    "!pip install numpy\n"
   ]
  },
  {
   "cell_type": "code",
   "execution_count": 11,
   "metadata": {},
   "outputs": [],
   "source": [
    "import torch\n",
    "from torch import nn\n",
    "from torch import optim\n",
    "from torch.nn import functional as F\n",
    "\n",
    "class DQN(nn.Module):\n",
    "    def __init__(self, state_dim, action_dim, hidden_dim=256):\n",
    "        super(DQN, self).__init__()\n",
    "        self.fc1 = nn.Linear(state_dim, hidden_dim)\n",
    "        self.fc2 = nn.Linear(hidden_dim, action_dim)\n",
    "\n",
    "    def forward(self, x):\n",
    "        x = F.relu(self.fc1(x))\n",
    "        return self.fc2(x)"
   ]
  },
  {
   "cell_type": "code",
   "execution_count": 3,
   "metadata": {},
   "outputs": [],
   "source": [
    "from collections import deque\n",
    "import random\n",
    "\n",
    "class ReplayBuffer():\n",
    "    def __init__(self, capacity, seed=None):\n",
    "        self.buffer = deque([], maxlen=capacity)\n",
    "        if seed is not None:\n",
    "            random.seed(seed)\n",
    "\n",
    "    def sample(self, batch_size):\n",
    "        return random.sample(self.buffer, batch_size)\n",
    "    \n",
    "    def __len__(self):\n",
    "        return len(self.buffer)\n",
    "    \n",
    "    def append(self, transition):\n",
    "        self.buffer.append(transition)\n",
    "    "
   ]
  },
  {
   "cell_type": "code",
   "execution_count": 16,
   "metadata": {},
   "outputs": [
    {
     "ename": "KeyboardInterrupt",
     "evalue": "",
     "output_type": "error",
     "traceback": [
      "\u001b[0;31m---------------------------------------------------------------------------\u001b[0m",
      "\u001b[0;31mKeyboardInterrupt\u001b[0m                         Traceback (most recent call last)",
      "Cell \u001b[0;32mIn[16], line 74\u001b[0m\n\u001b[1;32m     72\u001b[0m \u001b[38;5;28;01mif\u001b[39;00m \u001b[38;5;18m__name__\u001b[39m \u001b[38;5;241m==\u001b[39m \u001b[38;5;124m'\u001b[39m\u001b[38;5;124m__main__\u001b[39m\u001b[38;5;124m'\u001b[39m:\n\u001b[1;32m     73\u001b[0m     agent \u001b[38;5;241m=\u001b[39m Agent(\u001b[38;5;124m'\u001b[39m\u001b[38;5;124mhyperparameters.yml\u001b[39m\u001b[38;5;124m'\u001b[39m)\n\u001b[0;32m---> 74\u001b[0m     \u001b[43magent\u001b[49m\u001b[38;5;241;43m.\u001b[39;49m\u001b[43mrun\u001b[49m\u001b[43m(\u001b[49m\u001b[43mis_training\u001b[49m\u001b[38;5;241;43m=\u001b[39;49m\u001b[38;5;28;43;01mTrue\u001b[39;49;00m\u001b[43m,\u001b[49m\u001b[43m \u001b[49m\u001b[43mrender\u001b[49m\u001b[38;5;241;43m=\u001b[39;49m\u001b[38;5;28;43;01mTrue\u001b[39;49;00m\u001b[43m)\u001b[49m\n",
      "Cell \u001b[0;32mIn[16], line 69\u001b[0m, in \u001b[0;36mAgent.run\u001b[0;34m(self, is_training, render)\u001b[0m\n\u001b[1;32m     67\u001b[0m reward_episode\u001b[38;5;241m.\u001b[39mappend(episode_reward)\n\u001b[1;32m     68\u001b[0m \u001b[38;5;28mself\u001b[39m\u001b[38;5;241m.\u001b[39mepsilon_start \u001b[38;5;241m=\u001b[39m \u001b[38;5;28mmax\u001b[39m(\u001b[38;5;28mself\u001b[39m\u001b[38;5;241m.\u001b[39mepsilon_min, \u001b[38;5;28mself\u001b[39m\u001b[38;5;241m.\u001b[39mepsilon_start \u001b[38;5;241m*\u001b[39m \u001b[38;5;28mself\u001b[39m\u001b[38;5;241m.\u001b[39mepsilon_decay)\n\u001b[0;32m---> 69\u001b[0m \u001b[43mepsilon_history\u001b[49m\u001b[38;5;241m.\u001b[39mappend(\u001b[38;5;28mself\u001b[39m\u001b[38;5;241m.\u001b[39mepsilon_start)\n",
      "Cell \u001b[0;32mIn[16], line 69\u001b[0m, in \u001b[0;36mAgent.run\u001b[0;34m(self, is_training, render)\u001b[0m\n\u001b[1;32m     67\u001b[0m reward_episode\u001b[38;5;241m.\u001b[39mappend(episode_reward)\n\u001b[1;32m     68\u001b[0m \u001b[38;5;28mself\u001b[39m\u001b[38;5;241m.\u001b[39mepsilon_start \u001b[38;5;241m=\u001b[39m \u001b[38;5;28mmax\u001b[39m(\u001b[38;5;28mself\u001b[39m\u001b[38;5;241m.\u001b[39mepsilon_min, \u001b[38;5;28mself\u001b[39m\u001b[38;5;241m.\u001b[39mepsilon_start \u001b[38;5;241m*\u001b[39m \u001b[38;5;28mself\u001b[39m\u001b[38;5;241m.\u001b[39mepsilon_decay)\n\u001b[0;32m---> 69\u001b[0m \u001b[43mepsilon_history\u001b[49m\u001b[38;5;241m.\u001b[39mappend(\u001b[38;5;28mself\u001b[39m\u001b[38;5;241m.\u001b[39mepsilon_start)\n",
      "File \u001b[0;32m_pydevd_bundle\\\\pydevd_cython.pyx:1697\u001b[0m, in \u001b[0;36m_pydevd_bundle.pydevd_cython.SafeCallWrapper.__call__\u001b[0;34m()\u001b[0m\n",
      "File \u001b[0;32m_pydevd_bundle\\\\pydevd_cython.pyx:634\u001b[0m, in \u001b[0;36m_pydevd_bundle.pydevd_cython.PyDBFrame.trace_dispatch\u001b[0;34m()\u001b[0m\n",
      "File \u001b[0;32m_pydevd_bundle\\\\pydevd_cython.pyx:1112\u001b[0m, in \u001b[0;36m_pydevd_bundle.pydevd_cython.PyDBFrame.trace_dispatch\u001b[0;34m()\u001b[0m\n",
      "File \u001b[0;32m_pydevd_bundle\\\\pydevd_cython.pyx:1090\u001b[0m, in \u001b[0;36m_pydevd_bundle.pydevd_cython.PyDBFrame.trace_dispatch\u001b[0;34m()\u001b[0m\n",
      "File \u001b[0;32m_pydevd_bundle\\\\pydevd_cython.pyx:494\u001b[0m, in \u001b[0;36m_pydevd_bundle.pydevd_cython.PyDBFrame.do_wait_suspend\u001b[0;34m()\u001b[0m\n",
      "File \u001b[0;32m~/Documents/data-analysis/advanced/Lab9/notebooks/netflixApp/.conda/lib/python3.11/site-packages/debugpy/_vendored/pydevd/pydevd.py:2185\u001b[0m, in \u001b[0;36mPyDB.do_wait_suspend\u001b[0;34m(self, thread, frame, event, arg, exception_type)\u001b[0m\n\u001b[1;32m   2182\u001b[0m             from_this_thread\u001b[38;5;241m.\u001b[39mappend(frame_custom_thread_id)\n\u001b[1;32m   2184\u001b[0m     \u001b[38;5;28;01mwith\u001b[39;00m \u001b[38;5;28mself\u001b[39m\u001b[38;5;241m.\u001b[39m_threads_suspended_single_notification\u001b[38;5;241m.\u001b[39mnotify_thread_suspended(thread_id, thread, stop_reason):\n\u001b[0;32m-> 2185\u001b[0m         keep_suspended \u001b[38;5;241m=\u001b[39m \u001b[38;5;28;43mself\u001b[39;49m\u001b[38;5;241;43m.\u001b[39;49m\u001b[43m_do_wait_suspend\u001b[49m\u001b[43m(\u001b[49m\u001b[43mthread\u001b[49m\u001b[43m,\u001b[49m\u001b[43m \u001b[49m\u001b[43mframe\u001b[49m\u001b[43m,\u001b[49m\u001b[43m \u001b[49m\u001b[43mevent\u001b[49m\u001b[43m,\u001b[49m\u001b[43m \u001b[49m\u001b[43marg\u001b[49m\u001b[43m,\u001b[49m\u001b[43m \u001b[49m\u001b[43mtrace_suspend_type\u001b[49m\u001b[43m,\u001b[49m\u001b[43m \u001b[49m\u001b[43mfrom_this_thread\u001b[49m\u001b[43m,\u001b[49m\u001b[43m \u001b[49m\u001b[43mframes_tracker\u001b[49m\u001b[43m)\u001b[49m\n\u001b[1;32m   2187\u001b[0m frames_list \u001b[38;5;241m=\u001b[39m \u001b[38;5;28;01mNone\u001b[39;00m\n\u001b[1;32m   2189\u001b[0m \u001b[38;5;28;01mif\u001b[39;00m keep_suspended:\n\u001b[1;32m   2190\u001b[0m     \u001b[38;5;66;03m# This means that we should pause again after a set next statement.\u001b[39;00m\n",
      "File \u001b[0;32m~/Documents/data-analysis/advanced/Lab9/notebooks/netflixApp/.conda/lib/python3.11/site-packages/debugpy/_vendored/pydevd/pydevd.py:2254\u001b[0m, in \u001b[0;36mPyDB._do_wait_suspend\u001b[0;34m(self, thread, frame, event, arg, trace_suspend_type, from_this_thread, frames_tracker)\u001b[0m\n\u001b[1;32m   2251\u001b[0m                 queue\u001b[38;5;241m.\u001b[39mput(internal_cmd)\n\u001b[1;32m   2252\u001b[0m                 wait_timeout \u001b[38;5;241m=\u001b[39m TIMEOUT_FAST\n\u001b[0;32m-> 2254\u001b[0m         \u001b[43mnotify_event\u001b[49m\u001b[38;5;241;43m.\u001b[39;49m\u001b[43mwait\u001b[49m\u001b[43m(\u001b[49m\u001b[43mwait_timeout\u001b[49m\u001b[43m)\u001b[49m\n\u001b[1;32m   2255\u001b[0m         notify_event\u001b[38;5;241m.\u001b[39mclear()\n\u001b[1;32m   2257\u001b[0m \u001b[38;5;28;01mfinally\u001b[39;00m:\n",
      "File \u001b[0;32m~/Documents/data-analysis/advanced/Lab9/notebooks/netflixApp/.conda/lib/python3.11/threading.py:629\u001b[0m, in \u001b[0;36mEvent.wait\u001b[0;34m(self, timeout)\u001b[0m\n\u001b[1;32m    627\u001b[0m signaled \u001b[38;5;241m=\u001b[39m \u001b[38;5;28mself\u001b[39m\u001b[38;5;241m.\u001b[39m_flag\n\u001b[1;32m    628\u001b[0m \u001b[38;5;28;01mif\u001b[39;00m \u001b[38;5;129;01mnot\u001b[39;00m signaled:\n\u001b[0;32m--> 629\u001b[0m     signaled \u001b[38;5;241m=\u001b[39m \u001b[38;5;28;43mself\u001b[39;49m\u001b[38;5;241;43m.\u001b[39;49m\u001b[43m_cond\u001b[49m\u001b[38;5;241;43m.\u001b[39;49m\u001b[43mwait\u001b[49m\u001b[43m(\u001b[49m\u001b[43mtimeout\u001b[49m\u001b[43m)\u001b[49m\n\u001b[1;32m    630\u001b[0m \u001b[38;5;28;01mreturn\u001b[39;00m signaled\n",
      "File \u001b[0;32m~/Documents/data-analysis/advanced/Lab9/notebooks/netflixApp/.conda/lib/python3.11/threading.py:331\u001b[0m, in \u001b[0;36mCondition.wait\u001b[0;34m(self, timeout)\u001b[0m\n\u001b[1;32m    329\u001b[0m \u001b[38;5;28;01melse\u001b[39;00m:\n\u001b[1;32m    330\u001b[0m     \u001b[38;5;28;01mif\u001b[39;00m timeout \u001b[38;5;241m>\u001b[39m \u001b[38;5;241m0\u001b[39m:\n\u001b[0;32m--> 331\u001b[0m         gotit \u001b[38;5;241m=\u001b[39m \u001b[43mwaiter\u001b[49m\u001b[38;5;241;43m.\u001b[39;49m\u001b[43macquire\u001b[49m\u001b[43m(\u001b[49m\u001b[38;5;28;43;01mTrue\u001b[39;49;00m\u001b[43m,\u001b[49m\u001b[43m \u001b[49m\u001b[43mtimeout\u001b[49m\u001b[43m)\u001b[49m\n\u001b[1;32m    332\u001b[0m     \u001b[38;5;28;01melse\u001b[39;00m:\n\u001b[1;32m    333\u001b[0m         gotit \u001b[38;5;241m=\u001b[39m waiter\u001b[38;5;241m.\u001b[39macquire(\u001b[38;5;28;01mFalse\u001b[39;00m)\n",
      "\u001b[0;31mKeyboardInterrupt\u001b[0m: "
     ]
    }
   ],
   "source": [
    "import flappy_bird_gymnasium\n",
    "import gymnasium\n",
    "import itertools\n",
    "import yaml\n",
    "\n",
    "device = 'cuda' if torch.cuda.is_available() else 'cpu'\n",
    "\n",
    "class Agent:\n",
    "    \n",
    "    def __init__(self, config_path='hyperparameters.yml'):\n",
    "        with open(config_path, 'r') as file:\n",
    "            self.config = yaml.safe_load(file)\n",
    "            self.config = self.config['cartpole1']\n",
    "        self.replay_buffer_size = self.config['replay_buffer_size']\n",
    "        self.batch_size = self.config['batch_size']\n",
    "        self.gamma = self.config['gamma']\n",
    "        self.learning_rate = self.config['learning_rate']\n",
    "        self.epsilon_start = self.config['epsilon_start']\n",
    "        self.epsilon_end = self.config['epsilon_end']\n",
    "        self.epsilon_decay = self.config['epsilon_decay']\n",
    "        self.epsilon_min = self.config['epsilon_min']\n",
    "        self.target_update = self.config['target_update']\n",
    "    \n",
    "    def run(self, is_training=True, render=False): \n",
    "        # env = gymnasium.make(\"FlappyBird-v0\", render_mode=\"human\", use_lidar=True)\n",
    "        env = gymnasium.make(\"CartPole-v1\", render_mode=\"human\")\n",
    "\n",
    "        num_actions = env.action_space.n\n",
    "        num_states = env.observation_space.shape[0]\n",
    "        reward_episode = []\n",
    "        epsilon_history = []    \n",
    "        policy_dqn = DQN(num_states, num_actions).to(device)\n",
    "\n",
    "        if is_training:\n",
    "            buffer = ReplayBuffer(capacity=self.replay_buffer_size)\n",
    "\n",
    "        for episode in itertools.count():\n",
    "            state, _ = env.reset()\n",
    "            state = torch.tensor(state, dtype=torch.float, device=device)\n",
    "\n",
    "            episode_reward = 0.0\n",
    "            terminated = False\n",
    "\n",
    "            while not terminated:\n",
    "\n",
    "                if is_training and random.random() < self.epsilon_start:\n",
    "                    action = env.action_space.sample()\n",
    "                    action = torch.tensor(action, dtype=torch.long, device=device)\n",
    "                else:\n",
    "                    with torch.no_grad():\n",
    "                        action = policy_dqn(state.unsqueeze(0)).squeeze().argmax()\n",
    "\n",
    "\n",
    "                # Processing:\n",
    "                new_state, reward, terminated, _, info = env.step(action.item())\n",
    "                \n",
    "                episode_reward += reward\n",
    "\n",
    "                new_state = torch.tensor(new_state, dtype=torch.float, device=device)\n",
    "                reward = torch.tensor(reward, dtype=torch.float, device=device)\n",
    "\n",
    "                if is_training:\n",
    "                    buffer.append((state, action, reward, terminated, info))\n",
    "\n",
    "                state = new_state\n",
    "\n",
    "            reward_episode.append(episode_reward)\n",
    "            self.epsilon_start = max(self.epsilon_min, self.epsilon_start * self.epsilon_decay)\n",
    "            epsilon_history.append(self.epsilon_start)\n",
    "\n",
    "\n",
    "if __name__ == '__main__':\n",
    "    agent = Agent('hyperparameters.yml')\n",
    "    agent.run(is_training=True, render=True)"
   ]
  }
 ],
 "metadata": {
  "kernelspec": {
   "display_name": "Python 3",
   "language": "python",
   "name": "python3"
  },
  "language_info": {
   "codemirror_mode": {
    "name": "ipython",
    "version": 3
   },
   "file_extension": ".py",
   "mimetype": "text/x-python",
   "name": "python",
   "nbconvert_exporter": "python",
   "pygments_lexer": "ipython3",
   "version": "3.11.9"
  }
 },
 "nbformat": 4,
 "nbformat_minor": 2
}
