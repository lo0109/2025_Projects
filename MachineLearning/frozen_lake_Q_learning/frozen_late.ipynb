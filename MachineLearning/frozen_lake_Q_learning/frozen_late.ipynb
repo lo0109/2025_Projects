{
 "cells": [
  {
   "cell_type": "code",
   "execution_count": 12,
   "metadata": {},
   "outputs": [],
   "source": [
    "import gymnasium as gym\n",
    "import numpy as np\n",
    "import pickle\n",
    "import matplotlib.pyplot as plt\n",
    "\n",
    "def run(episodes, is_train=True, render=False):\n",
    "\n",
    "    env = gym.make('FrozenLake-v1', map_name=\"8x8\", is_slippery=True, render_mode=\"human\")\n",
    "    if is_train:\n",
    "        q = np.zeros((env.observation_space.n, env.action_space.n))\n",
    "    else:\n",
    "        f = open('q_table.pkl', 'rb')\n",
    "        q = pickle.load(f)\n",
    "        f.close()\n",
    "\n",
    "    gamma = 0.9\n",
    "    alpha = 0.9\n",
    "    epsilon = 1\n",
    "    epsilon_decay = 0.995\n",
    "    rng = np.random.default_rng()\n",
    "    rewards = np.zeros(episodes)\n",
    "\n",
    "    for i in range(episodes):\n",
    "        state = env.reset()[0]\n",
    "        terminated = False\n",
    "        truncated = False\n",
    "\n",
    "        while not terminated and not truncated:\n",
    "            if is_train and rng.random() < epsilon:\n",
    "                action = env.action_space.sample()\n",
    "            else:\n",
    "                action = np.argmax(q[state,:])\n",
    "            new_state, reward, terminated, truncated,_ = env.step(action)\n",
    "            if is_train:\n",
    "                q[state, action] = q[state, action] + alpha * (reward + gamma * np.max(q[new_state,:]) - q[state, action])\n",
    "            state = new_state\n",
    "        epsilon = max(epsilon * epsilon_decay, 0)\n",
    "        if (epsilon == 0):\n",
    "            alpha = 0.0001\n",
    "        if reward > 0:\n",
    "            rewards[i] = reward\n",
    "        \n",
    "        \n",
    "    env.close()\n",
    "\n",
    "    sum_rewards = np.zeros(episodes)\n",
    "    for i in range(episodes):\n",
    "        sum_rewards[i] = np.sum(rewards[i:])\n",
    "    plt.plot(sum_rewards)\n",
    "    plt.savefig('sum_rewards.png')\n",
    "\n",
    "    if is_train:\n",
    "        f = open('q_table.pkl', 'wb')\n",
    "        pickle.dump(q, f)\n",
    "        f.close()\n",
    "\n",
    "\n",
    "\n"
   ]
  },
  {
   "cell_type": "markdown",
   "metadata": {},
   "source": []
  },
  {
   "cell_type": "code",
   "execution_count": 13,
   "metadata": {},
   "outputs": [
    {
     "data": {
      "image/png": "[encoded data removed]",
      "text/plain": [
       "<Figure size 640x480 with 1 Axes>"
      ]
     },
     "metadata": {},
     "output_type": "display_data"
    }
   ],
   "source": [
    "run(10)"
   ]
  },
  {
   "cell_type": "code",
   "execution_count": null,
   "metadata": {},
   "outputs": [],
   "source": []
  }
 ],
 "metadata": {
  "kernelspec": {
   "display_name": "Python 3",
   "language": "python",
   "name": "python3"
  },
  "language_info": {
   "codemirror_mode": {
    "name": "ipython",
    "version": 3
   },
   "file_extension": ".py",
   "mimetype": "text/x-python",
   "name": "python",
   "nbconvert_exporter": "python",
   "pygments_lexer": "ipython3",
   "version": "3.11.9"
  }
 },
 "nbformat": 4,
 "nbformat_minor": 2
}
